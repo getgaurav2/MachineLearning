{
 "cells": [
  {
   "cell_type": "markdown",
   "metadata": {},
   "source": [
    "\n",
    "---"
   ]
  },
  {
   "cell_type": "markdown",
   "metadata": {},
   "source": [
    "\n",
    "<div>\n",
    "<img src=\"images/HW1_problem_1.png\" width=\"1500\"/>\n",
    "</div>\n",
    "\n",
    "(a) $What\\ is\\ the\\ joint\\ likelihood\\ of\\ the\\ data\\  \n",
    "(x1, ... ,xN)$  ?\n",
    "\n",
    "<div>\n",
    "<img src=\"images/HW1_solution_1a.png\" width=\"600\"/>\n",
    "</div>\n",
    "\n",
    "(b) $ Derive\\ the\\ maximum\\ likelihood\\ estimate\\  \\hat{\\pi}_{ML}$ for ${\\pi}$\n",
    "\n",
    "$\\text{To help learn } {\\pi},\\text{ you use a prior distribution. You select the  distribution  p(} {\\pi}) = \\beta(a ,b).$\n",
    "\n",
    "<div>\n",
    "<img src=\"images/HW1_solution_1b1.png\" width=\"600\"/>\n",
    "</div>\n",
    "\n",
    "<div>\n",
    "<img src=\"images/HW1_solution_1b2.png\" width=\"600\"/>\n",
    "</div>\n",
    "\n",
    "(c) $\\text{Derive the maximum  a posteriori  (MAP) estimate } \\hat{\\pi}_{MAP}\\ for\\  {\\pi}$ ?\n",
    "\n",
    "<div>\n",
    "<img src=\"images/HW1_solution_1c1.png\" width=\"600\"/>\n",
    "</div>\n",
    "\n",
    "<div>\n",
    "<img src=\"images/HW1_solution_1c2.png\" width=\"600\"/>\n",
    "</div>\n",
    "\n",
    "\n",
    "(d) $\\text{Use Bayes rule to derive the posterior distribution of }  {\\pi} \\text{ and  identify the name of this      distribution.}$\n",
    "\n",
    "<div>\n",
    "<img src=\"images/HW1_solution_1d.png\" width=\"600\"/>\n",
    "</div>\n",
    "\n",
    "(e) $\\text{What is the mean and variance of } {\\pi} \\text{  under this posterior?   Discuss how it relates to } \\hat{\\pi}_{ML}\\ and\\ \\hat{\\pi}_{MAP}$\n",
    "\n",
    "<div>\n",
    "<img src=\"images/HW1_solution_1e.png\" width=\"600\"/>\n",
    "</div>"
   ]
  },
  {
   "cell_type": "markdown",
   "metadata": {},
   "source": [
    "\n",
    "___"
   ]
  },
  {
   "cell_type": "markdown",
   "metadata": {},
   "source": [
    "<div>\n",
    "<img src=\"images/HW1_problem_2_1.png\" width=\"1500\"/>\n",
    "</div>"
   ]
  },
  {
   "cell_type": "code",
   "execution_count": 3,
   "metadata": {},
   "outputs": [],
   "source": [
    "# -*- coding: utf-8 -*-\n",
    "import numpy as np\n",
    "import matplotlib.pyplot as plt\n",
    "from numpy.linalg import inv\n",
    "from numpy import genfromtxt"
   ]
  },
  {
   "cell_type": "code",
   "execution_count": 4,
   "metadata": {},
   "outputs": [],
   "source": [
    "df_X_train = genfromtxt('X_train.csv', delimiter=',')\n",
    "df_Y_train = genfromtxt('Y_train.csv', delimiter=',')\n",
    "df_X_test = genfromtxt('X_test.csv', delimiter=',')\n",
    "df_Y_test = genfromtxt('Y_test.csv', delimiter=',')"
   ]
  },
  {
   "cell_type": "markdown",
   "metadata": {},
   "source": [
    "<div>\n",
    "<img src=\"WRR-formula.png\" width=\"300\"/>\n",
    "</div>\n"
   ]
  },
  {
   "cell_type": "code",
   "execution_count": 5,
   "metadata": {},
   "outputs": [],
   "source": [
    "#############################################################################\n",
    "def WRR(X_train , Y_train , Lam_range, feature_count):\n",
    "    \n",
    "    I = np.identity(feature_count)\n",
    "    \n",
    "    WRR= [0 for row in range(Lam_range)]\n",
    "    dof = []\n",
    "    X_train_trans = X_train.transpose()\n",
    "    \n",
    "    for  Lam in range(0, Lam_range):\n",
    "      \n",
    "      Lam_Identity = np.dot(Lam , I)\n",
    "      \n",
    "      Inverse =   inv( Lam_Identity + np.dot(X_train_trans ,X_train))\n",
    "      part1 = np.dot(Inverse ,X_train_trans)\n",
    "      part2 = np.dot(part1 , X_train)\n",
    "\n",
    "      WRR[Lam] = np.dot(part1 , df_Y_train)\n",
    "      \n",
    "      dof.append ( np.trace( part2))\n",
    "\n",
    "    return np.asarray(WRR) , np.asarray(dof)\n",
    "    \n",
    "\n",
    "\n",
    "#### ADD LEGEND \n",
    "#############################################################################\n",
    "def predict( WRR , X_test , Lam_range):\n",
    "    \n",
    "    Y_predict= [0 for row in range(Lam_range)]\n",
    "\n",
    "    for  i in range(0, Lam_range):\n",
    "        Y_predict[i] = np.dot(WRR[i], X_test.transpose())\n",
    "\n",
    "    return Y_predict\n",
    "\n",
    "#############################################################################\n",
    "\n",
    "## Root Mean  Square Error\n",
    "def RMSE (Y_predict ,Y_test ,Lam_range, test_rec_count ):\n",
    " \n",
    " RMSE= [0 for row in range(Lam_range)] \n",
    " \n",
    "\n",
    " for  i in range(0, Lam_range):\n",
    "     square_error  =  np.square(Y_predict[i] - Y_test)\n",
    "\n",
    "     RMSE[i] =  np.sqrt((np.sum(square_error)/test_rec_count))\n",
    " \n",
    " return RMSE\n"
   ]
  },
  {
   "cell_type": "code",
   "execution_count": null,
   "metadata": {},
   "outputs": [],
   "source": []
  },
  {
   "cell_type": "markdown",
   "metadata": {},
   "source": [
    "$\\text{ (a) For } \\lambda \\text{ =  0 ,  1 ,  2 ,  3 ,  . . .  , 5000, solve for }  w_{RR}\\text{  .(Notice that when }  \\lambda \\text{ = 0,}   w_{RR} = w_{LS} \\text{.) In  one  figure , plot  the  7  values  in }  w_{RR} \\text{ as a function of } df(\\lambda). \\text{ You will  need to call  a  built  in  SVD  function  to  do  this.  Be sure to label your 7 curves by their dimension in  x.}$\n",
    "\n",
    "$\\text{ (b) The 4th dimension (car weight) and 6th dimension (car year) clearly stand out over the other\n",
    "dimensions. What information can we get from this?}$\n",
    "\n",
    "$\\text{ The 4th Dimension and the 6th Dimension stand out that means that per unit change in\n",
    "Weight and per unit change in car year have the most }$\n",
    "$\\text{impact on the output value of y .\n",
    "Also these two elements have the largest contribution in the variance of the regression.}$"
   ]
  },
  {
   "cell_type": "code",
   "execution_count": 6,
   "metadata": {},
   "outputs": [
    {
     "name": "stdout",
     "output_type": "stream",
     "text": [
      "[-0.44572373  0.57776701 -0.34449687 -5.40968597  0.25110636  2.76333513\n",
      "  0.00812705] 6.8504825130584255\n"
     ]
    },
    {
     "data": {
      "image/png": "[encoded data removed]",
      "text/plain": [
       "<Figure size 432x288 with 1 Axes>"
      ]
     },
     "metadata": {
      "needs_background": "light"
     },
     "output_type": "display_data"
    }
   ],
   "source": [
    "#############################################################################\n",
    "W_RR , DOF= WRR (df_X_train ,df_Y_train ,5000, 7)\n",
    "print (W_RR[1], DOF[1])\n",
    "\n",
    "plt.figure(1)\n",
    "label = [ 'cylinders' , 'displacement' ,\n",
    "        'horsepower'  ,'weight' , 'acceleration' ,'car yr' ,'W0']\n",
    "for  i in range(0,7 ):\n",
    "    plt.plot(DOF ,W_RR[:,i],label = label[i]) \n",
    "\n",
    "\n",
    "plt.xlabel(\"Degrees of Freedom\")\n",
    "plt.ylabel(\"WRR - Coefficient\")\n",
    "plt.legend()\n",
    "plt.legend(loc='center left', bbox_to_anchor=(1, 0.5))\n",
    "plt.show()\n"
   ]
  },
  {
   "cell_type": "markdown",
   "metadata": {},
   "source": [
    "$(c)\\  \\text{For}$ $ \\lambda$ $\\text{= 0, ... , 50, predict all 42 test cases. Plot the root mean squared error}$ $(RMSE)^2$ $\\text{on the test\n",
    "set as a function of}$ $\\lambda$ $\\text{—not as a function of}$ $ df(\\lambda).$$\\text{ What does this figure tell you when choosing }$ $\\lambda$ $\\text{\n",
    "for this problem (and when choosing between ridge regression and least squares)?}$\n",
    "\n",
    "When choosing λ , the Lower λ seems to give a better performance in terms of the\n",
    "RMSE."
   ]
  },
  {
   "cell_type": "code",
   "execution_count": 7,
   "metadata": {},
   "outputs": [
    {
     "data": {
      "image/png": "[encoded data removed]",
      "text/plain": [
       "<Figure size 432x288 with 1 Axes>"
      ]
     },
     "metadata": {
      "needs_background": "light"
     },
     "output_type": "display_data"
    }
   ],
   "source": [
    "Y_predict = predict (W_RR ,df_X_test , 50 )\n",
    "\n",
    "RMSE_X1 =  RMSE(Y_predict , df_Y_test ,50, 42)\n",
    "plt.figure(2)\n",
    "\n",
    "\n",
    "plt.plot(range(50), np.asarray(RMSE_X1)) \n",
    "\n",
    "plt.xlabel(\"Lambda\")\n",
    "plt.ylabel(\"RMSE\")\n",
    "plt.show()"
   ]
  },
  {
   "cell_type": "markdown",
   "metadata": {},
   "source": [
    "$\\text{(d) In one figure, plot the test RMSE as a function of} \\lambda \\text{= 0, ..., 500}$\n",
    "$\\text{for p = 1, 2, 3. Based on this plot, which value of p should you choose and why? How does your assessment of the ideal value of } \\lambda $\n",
    "$\\text{change for this problem?}$"
   ]
  },
  {
   "cell_type": "code",
   "execution_count": 8,
   "metadata": {},
   "outputs": [],
   "source": [
    "#############################################################################\n",
    "# add 2 and 3 order terms in the input matrix \n",
    "def get_pth_order ( X  ):\n",
    "\n",
    "    X_1 = X\n",
    "    X_2 = []\n",
    "    X_3 = []\n",
    "    \n",
    "    for i in range (len(X_1)):\n",
    "        X_2.append([])\n",
    "        X_3.append([])\n",
    "        for j in range(len(X_1[0])):\n",
    "            X_2[i].append((X_1[i][j]))\n",
    "            X_3[i].append((X_1[i][j]))\n",
    "            \n",
    "        for j in range(len(X_1[0])-1):\n",
    "            X_2[i].append((X_1[i][j])**2)\n",
    "            X_3[i].append((X_1[i][j])**2)\n",
    "\n",
    "        for j in range(len(X_1[0])-1):\n",
    "            X_3[i].append((X_1[i][j])**3)\n",
    "\n",
    "\n",
    "    return X_1 , np.asarray(X_2) , np.asarray(X_3)\n",
    "\n"
   ]
  },
  {
   "cell_type": "code",
   "execution_count": 9,
   "metadata": {},
   "outputs": [],
   "source": [
    "X1_train , X2_train , X3_train = get_pth_order (df_X_train )\n",
    "X1_test , X2_test , X3_test = get_pth_order (df_X_test )"
   ]
  },
  {
   "cell_type": "code",
   "execution_count": 10,
   "metadata": {},
   "outputs": [
    {
     "data": {
      "image/png": "[encoded data removed]",
      "text/plain": [
       "<Figure size 432x288 with 1 Axes>"
      ]
     },
     "metadata": {
      "needs_background": "light"
     },
     "output_type": "display_data"
    }
   ],
   "source": [
    "W_RR_X_1 , DOF= WRR (X1_train ,df_Y_train ,500, 7)\n",
    "Y_predict_X_1 = predict (W_RR_X_1 ,X1_test , 500 )\n",
    "RMSE_X1 =  RMSE(Y_predict_X_1 , df_Y_test ,500, 42)\n",
    "\n",
    "W_RR_X_2 , DOF= WRR (X2_train ,df_Y_train ,500, 13)\n",
    "Y_predict_X_2 = predict (W_RR_X_2 ,X2_test , 500 )\n",
    "RMSE_X2 =  RMSE(Y_predict_X_2 , df_Y_test ,500, 42)\n",
    "\n",
    "\n",
    "W_RR_X_3 , DOF= WRR (X3_train ,df_Y_train ,500, 19)\n",
    "Y_predict_X_3 = predict (W_RR_X_3 ,X3_test , 500 )\n",
    "RMSE_X3 =  RMSE(Y_predict_X_3 , df_Y_test ,500, 42)\n",
    "\n",
    "plt.figure(3)\n",
    "\n",
    "plt.plot(range(500), np.asarray(RMSE_X1) ,label = \"X1\") \n",
    "plt.plot(range(500), np.asarray(RMSE_X2), label = \"X2\")  \n",
    "plt.plot(range(500), np.asarray(RMSE_X3), label = \"X3\") \n",
    "\n",
    "plt.xlabel(\"Lambda\")\n",
    "plt.ylabel(\"RMSE\")\n",
    "plt.legend(loc='center left', bbox_to_anchor=(1, 0.5))\n",
    "           \n",
    "plt.show() "
   ]
  },
  {
   "cell_type": "markdown",
   "metadata": {},
   "source": [
    "d) Based on the plot above , P2 seem to have the best performance when λ = 23. The ideal\n",
    "value of λ has increased compared to what we observed part-c with Order -1 regression."
   ]
  },
  {
   "cell_type": "code",
   "execution_count": null,
   "metadata": {},
   "outputs": [],
   "source": []
  }
 ],
 "metadata": {
  "kernelspec": {
   "display_name": "Python 3",
   "language": "python",
   "name": "python3"
  },
  "language_info": {
   "codemirror_mode": {
    "name": "ipython",
    "version": 3
   },
   "file_extension": ".py",
   "mimetype": "text/x-python",
   "name": "python",
   "nbconvert_exporter": "python",
   "pygments_lexer": "ipython3",
   "version": "3.6.8"
  }
 },
 "nbformat": 4,
 "nbformat_minor": 2
}
