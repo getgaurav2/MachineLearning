{
 "cells": [
  {
   "cell_type": "markdown",
   "metadata": {},
   "source": [
    "<div>\n",
    "<img src=\"images/HW2_q1_1.png\" width=\"1500\"/>\n",
    "</div>\n",
    "\n",
    "\n",
    "<div>\n",
    "<img src=\"images/HW2_q1_2.png\" width=\"1500\"/>\n",
    "</div>\n",
    "\n",
    "\n",
    "\n",
    "<div>\n",
    "<img src=\"images/HW2_a1_1.png\" width=\"1500\"/>\n",
    "</div>\n",
    "\n",
    "\n",
    "<div>\n",
    "<img src=\"images/HW2_a1_2.png\" width=\"1500\"/>\n",
    "</div>\n",
    "\n",
    "\n",
    "<div>\n",
    "<img src=\"images/HW2_a1_3.png\" width=\"1500\"/>\n",
    "</div>\n",
    "\n",
    "\n",
    "<div>\n",
    "<img src=\"images/HW2_a1_4.png\" width=\"1500\"/>\n",
    "</div>"
   ]
  },
  {
   "cell_type": "markdown",
   "metadata": {},
   "source": [
    "<div>\n",
    "<img src=\"images/HW2_q2_1.png\" width=\"1500\"/>\n",
    "</div>\n",
    "\n",
    "\n",
    "<div>\n",
    "<img src=\"images/HW2_q2_2.png\" width=\"1500\"/>\n",
    "</div>\n"
   ]
  },
  {
   "cell_type": "code",
   "execution_count": 21,
   "metadata": {},
   "outputs": [],
   "source": [
    "# -*- coding: utf-8 -*-\n",
    "from __future__ import division\n",
    "import numpy as np\n",
    "import matplotlib.pyplot as plt\n",
    "from random import randint\n",
    "import scipy as scipy\n",
    "\n",
    "from numpy import genfromtxt\n",
    "from sklearn.metrics import confusion_matrix\n",
    "from mlxtend.plotting import plot_confusion_matrix"
   ]
  },
  {
   "cell_type": "code",
   "execution_count": 22,
   "metadata": {},
   "outputs": [],
   "source": [
    "df_X_train = genfromtxt('X_train.csv', delimiter=',')\n",
    "df_Y_train = genfromtxt('Y_train.csv', delimiter=',')\n",
    "df_X_test = genfromtxt('X_test.csv', delimiter=',')\n",
    "df_Y_test = genfromtxt('Y_test.csv', delimiter=',')\n"
   ]
  },
  {
   "cell_type": "code",
   "execution_count": 23,
   "metadata": {},
   "outputs": [],
   "source": [
    "#############################################################################\n",
    "\n",
    "\n",
    "def class_prior ( Y_train):\n",
    "    \n",
    "    tot_records = len(Y_train)\n",
    "    tot_spam =  np.sum(Y_train == 1)\n",
    "    tot_not_spam =  np.sum(Y_train == 0)\n",
    "    p_spam = tot_spam/tot_records\n",
    "    p_not_spam = tot_not_spam/tot_records \n",
    "    pi_hat = tot_spam/tot_records\n",
    "    return tot_records , tot_spam , tot_not_spam , p_spam , p_not_spam , pi_hat\n",
    "\n",
    "#############################################################################\n",
    "\n",
    "def class_conditional_Bernoulli (X_train , Y_train  , tot_spam , tot_not_spam):\n",
    "    Tot_spam = [0 for col in range(54)]\n",
    "    Tot_not_spam = [0 for col in range(54)]\n",
    "    Theta_spam = [0 for col in range(54)]\n",
    "    Theta_not_spam = [0 for col in range(54)]\n",
    "    \n",
    "    for j in range(54):    \n",
    "        for i in range(len(X_train)):\n",
    "      \n",
    "\n",
    "# Calculating Total spam per parameter per class       \n",
    "         if (Y_train[i] == 1.0):\n",
    "            Tot_spam[j] = Tot_spam[j] + X_train[i][j]\n",
    "         if (Y_train[i] == 0.0):\n",
    "            Tot_not_spam[j] = Tot_not_spam[j] + X_train[i][j]\n",
    "    \n",
    "        Theta_spam[j] = Tot_spam[j] /tot_spam\n",
    "\n",
    "        Theta_not_spam[j] = Tot_not_spam[j] /tot_not_spam\n",
    "    \n",
    "    return Theta_spam , Theta_not_spam \n",
    "\n",
    "#############################################################################\n",
    "\n",
    "def class_conditional_Pareto(X_train , Y_train  , tot_spam , tot_not_spam):\n",
    "    Tot_spam = [0 for col in range(0, 3)]\n",
    "    Tot_not_spam = [0 for col in range(0, 3)]\n",
    "    Theta_spam = [0 for col in range(0, 3)]\n",
    "    Theta_not_spam = [0 for col in range(0, 3)]\n",
    "    \n",
    "    for j in range(0, 3):    \n",
    "        for i in range(len(X_train)):\n",
    "         if (Y_train[i] == 1.0):\n",
    "            Tot_spam[j] = Tot_spam[j] + np.log(X_train[i][54+j])\n",
    "         if (Y_train[i] == 0.0):\n",
    "            Tot_not_spam[j] = Tot_not_spam[j] + np.log(X_train[i][54+j])   \n",
    "        Theta_spam[j] =  tot_spam/Tot_spam[j]\n",
    "        Theta_not_spam[j] =  tot_not_spam/Tot_not_spam[j]   \n",
    "    return Theta_spam , Theta_not_spam \n"
   ]
  },
  {
   "cell_type": "code",
   "execution_count": 24,
   "metadata": {},
   "outputs": [],
   "source": [
    " #############################################################################   \n",
    "tot_records , tot_spam , tot_not_spam , p_spam , p_not_spam , Pi_Hat =  class_prior (df_Y_train)   \n",
    "\n",
    "Theta_spam_Ber, Theta_not_spam_Ber =  class_conditional_Bernoulli (df_X_train , df_Y_train , tot_spam , tot_not_spam)\n",
    "\n",
    "\n",
    "Theta_spam_preto, Theta_not_spam_preto =  class_conditional_Pareto (df_X_train , df_Y_train , tot_spam , tot_not_spam)"
   ]
  },
  {
   "cell_type": "code",
   "execution_count": 25,
   "metadata": {},
   "outputs": [],
   "source": [
    "def posterior (Theta_spam_Ber , Theta_not_spam_Ber , Theta_spam_preto , Theta_not_spam_preto ,X_test):\n",
    "  \n",
    "      Bern_spam_1st_term =   np.power( Theta_spam_Ber ,  X_test[: , range(54)])  \n",
    "      \n",
    "      a =  [1-x for x in  X_test[: , range(54)]]\n",
    "     \n",
    "      b_spam =  [1-x for x in  Theta_spam_Ber]\n",
    "       \n",
    "      Bern_spam_2nd_term = np.power(b_spam, a)\n",
    "      \n",
    "      Predict_spam_Bern = np.multiply(Bern_spam_1st_term , Bern_spam_2nd_term)\n",
    "      \n",
    "      \n",
    "      Bern_not_spam_1st_term =   np.power( Theta_not_spam_Ber ,  X_test[: , range(54)])  \n",
    "      a =  [1-x for x in  X_test[: , range(54)]]\n",
    "      b_not_spam =  [1-x for x in  Theta_not_spam_Ber]\n",
    "      Bern_not_spam_2nd_term = np.power(b_not_spam, a)\n",
    "      Predict_not_spam_Bern = np.multiply(Bern_not_spam_1st_term , Bern_not_spam_2nd_term)\n",
    "      \n",
    "      \n",
    "      Pareto_spam_1st_term = [-1*(1+x) for x in  Theta_spam_preto]\n",
    "      Pareto_spam_2nd_term = np.power(   X_test[: , range(54,57)] , Pareto_spam_1st_term)\n",
    "      Predict_spam_pareto = np.multiply(Theta_spam_preto , Pareto_spam_2nd_term)\n",
    "             \n",
    "      \n",
    "      Pareto_not_spam_1st_term = [-1*(1+x) for x in  Theta_not_spam_preto]\n",
    "      Pareto_not_spam_2nd_term = np.power(   X_test[: , range(54,57)] , Pareto_not_spam_1st_term)\n",
    "      Predict_not_spam_pareto = np.multiply(Theta_not_spam_preto , Pareto_not_spam_2nd_term)\n",
    "         \n",
    "     \n",
    "      \n",
    "      return  Predict_spam_Bern     , Predict_not_spam_Bern , Predict_spam_pareto , Predict_not_spam_pareto\n",
    "        \n",
    "#############################################################################         \n",
    "\n",
    "\n",
    "\n",
    "def predict (Predict_spam_Bern , Predict_not_spam_Bern , Predict_spam_pareto , Predict_not_spam_pareto , p_spam , p_not_spam , Pi_Hat):\n",
    "    \n",
    "    \n",
    "    Y_predict = []\n",
    "    \n",
    "    for i in range(93):\n",
    "        # initialize to class prior probabilities\n",
    "        prob_spam =  Pi_Hat\n",
    "        prob_not_spam = 1 - Pi_Hat\n",
    "        for j1 in range (54):\n",
    "            prob_spam  = prob_spam * Predict_spam_Bern[i,j1]\n",
    "            \n",
    "        for k1 in range(3):\n",
    "            prob_spam = prob_spam * Predict_spam_pareto[i,k1]\n",
    "    \n",
    "        for j2 in range (54):\n",
    "            prob_not_spam  = prob_not_spam * Predict_not_spam_Bern[i,j2]\n",
    "        for k2 in range(3):\n",
    "            prob_not_spam = prob_not_spam * Predict_not_spam_pareto[i,k2]    \n",
    "        \n",
    "        if (prob_spam > prob_not_spam):\n",
    "            Y_predict.append(1)\n",
    "        else:\n",
    "            Y_predict.append(0)\n",
    "\n",
    "    return Y_predict\n"
   ]
  },
  {
   "cell_type": "code",
   "execution_count": 26,
   "metadata": {},
   "outputs": [
    {
     "name": "stdout",
     "output_type": "stream",
     "text": [
      "Naive Bayes 2 X 2 Table\n"
     ]
    },
    {
     "data": {
      "image/png": "[encoded data removed]",
      "text/plain": [
       "<Figure size 432x288 with 1 Axes>"
      ]
     },
     "metadata": {
      "needs_background": "light"
     },
     "output_type": "display_data"
    },
    {
     "name": "stdout",
     "output_type": "stream",
     "text": [
      "Naive Bayes Accuracy : 92.47311827956989 %\n"
     ]
    }
   ],
   "source": [
    "\n",
    "Predict_spam_Bern , Predict_not_spam_Bern , Predict_spam_pareto , Predict_not_spam_pareto = posterior ( Theta_spam_Ber , Theta_not_spam_Ber , Theta_spam_preto , Theta_not_spam_preto ,df_X_test)\n",
    "\n",
    "Y_predict = predict (Predict_spam_Bern , Predict_not_spam_Bern , Predict_spam_pareto , Predict_not_spam_pareto , p_spam , p_not_spam, Pi_Hat)\n",
    "\n",
    "## get the confusion Matrix .\n",
    "c_mat = confusion_matrix(df_Y_test , Y_predict)\n",
    "#print (\"Confusion Matrix: \\n\" , c_mat)\n",
    "\n",
    "print(\"Naive Bayes 2 X 2 Table\")\n",
    "fig, ax = plot_confusion_matrix(conf_mat=c_mat)\n",
    "plt.show()\n",
    "\n",
    "print (\"Naive Bayes Accuracy :\" , (c_mat.trace()/93.0 )*100 , \"%\")"
   ]
  },
  {
   "cell_type": "code",
   "execution_count": 27,
   "metadata": {},
   "outputs": [],
   "source": [
    "###################################################################################\n",
    "##  K-NN\n",
    "\n",
    "## rows has  number of test data point \n",
    "## columns has number of training data points\n",
    "def Diff_Matrix ( X_Train , X_test ):\n",
    "    #Diff = np.zeros((len(X_test), len(X_Train))) \n",
    "    Diff_list = [[] for j   in range(len(X_test))]    \n",
    "    \n",
    "    for i in range(len(X_test)):\n",
    "        for j in range(len(X_Train)):\n",
    "        ## calcuate L1 distance.\n",
    "           Diff = sum(abs(X_test[i] - X_Train[j])) \n",
    "           Diff_list[i].append((Diff , j) )\n",
    "    return Diff_list\n",
    "\n",
    "\n",
    "def KNN ( Diff_Matrix , X_train,Y_train,Y_test, K):\n",
    "## we need the distance of the test vector  from each of the training vectors.\n",
    "## hence we are interested in the Row  of the  Diff Matrix for each Test vector\n",
    "    accuracy_list = []\n",
    "    for k in range(1,K+1):\n",
    "      \n",
    "      Y_predict = []\n",
    "      for i in range(len(Diff_Matrix)):\n",
    "          Nearest = []          \n",
    "          Nearest = sorted(Diff_Matrix[i],key=lambda x: x[0])[0:k]\n",
    "\n",
    "          NN_values = []                   \n",
    "          for n in Nearest: \n",
    "\n",
    "              index = n[1] \n",
    "\n",
    "              NN_values.append(Y_train[index])             \n",
    "          if (np.average(NN_values) > 0.5):\n",
    "              Y_predict.append(1)\n",
    "          if (np.average(NN_values) < 0.5):\n",
    "              Y_predict.append(0)  \n",
    "          if (np.average(NN_values) == 0.5):\n",
    "              Y_predict.append(randint(0,1))\n",
    " \n",
    "      c_mat = confusion_matrix(list(Y_test) , list(Y_predict))\n",
    "      #print (\"KNN Confusion Matrix: \\n\" , c_mat)\n",
    "      accuracy = c_mat.trace()/len(Y_predict)\n",
    "      #print (k , \"KNN Accuracy :\" , accuracy*100 , \"%\")\n",
    "      accuracy_list.append(accuracy)\n",
    "    return accuracy_list  "
   ]
  },
  {
   "cell_type": "code",
   "execution_count": 28,
   "metadata": {},
   "outputs": [
    {
     "data": {
      "text/plain": [
       "[<matplotlib.lines.Line2D at 0x1a1a6a2470>]"
      ]
     },
     "execution_count": 28,
     "metadata": {},
     "output_type": "execute_result"
    },
    {
     "data": {
      "image/png": "[encoded data removed]",
      "text/plain": [
       "<Figure size 432x288 with 1 Axes>"
      ]
     },
     "metadata": {
      "needs_background": "light"
     },
     "output_type": "display_data"
    }
   ],
   "source": [
    "Diff_matrix =  Diff_Matrix(df_X_train , df_X_test)\n",
    "accuracy_list = KNN (Diff_matrix , df_X_train,df_Y_train,df_Y_test, 20)\n",
    "\n",
    "plt.figure(1)\n",
    "plt.title(\"Accuracies for k=1 through 20 \")\n",
    "plt.plot(range(1,21) ,accuracy_list) \n"
   ]
  },
  {
   "cell_type": "code",
   "execution_count": 29,
   "metadata": {},
   "outputs": [
    {
     "data": {
      "text/plain": [
       "Text(0,0.5,'$\\\\Theta$')"
      ]
     },
     "execution_count": 29,
     "metadata": {},
     "output_type": "execute_result"
    },
    {
     "data": {
      "image/png": "[encoded data removed]",
      "text/plain": [
       "<Figure size 432x288 with 1 Axes>"
      ]
     },
     "metadata": {
      "needs_background": "light"
     },
     "output_type": "display_data"
    }
   ],
   "source": [
    "####################################################################################        \n",
    "#stem plot\n",
    "#plt.stem(sum(Predict_not_spam_Bern[range(0,93),:]), markerfmt=\" \")\n",
    "plt.figure(2)\n",
    "#plt.stem(Theta_spam_Ber, markerfmt=\" \")\n",
    "#plt.figure(3)\n",
    "#plt.stem(Theta_not_spam_Ber, markerfmt=\" \")\n",
    "#plt.show()\n",
    "\n",
    "\n",
    "markerline, stemlines, baseline = plt.stem(range(1,55),Theta_not_spam_Ber, markerfmt='o', label=\"$\\Theta$(Y = 0)\")\n",
    "plt.setp(stemlines, 'color', plt.getp(markerline,'color'))\n",
    "plt.setp(stemlines, 'linestyle', 'dotted')\n",
    "\n",
    "markerline, stemlines, baseline = plt.stem(range(1,55),Theta_spam_Ber, markerfmt='o', label=\"$\\Theta$(Y = 1)\")\n",
    "plt.setp(stemlines, 'color', plt.getp(markerline,'color'))\n",
    "plt.setp(stemlines, 'linestyle', 'solid')\n",
    "plt.legend(loc='upper center', bbox_to_anchor=(0.5,-0.1))\n",
    "plt.title(\"Stem Plot for weights of  Bernoulli Parameters\")\n",
    "plt.xlim(0,55)\n",
    "plt.xlabel(\"Dimension\")\n",
    "plt.ylabel(\"$\\Theta$\")\n"
   ]
  },
  {
   "cell_type": "markdown",
   "metadata": {},
   "source": [
    "### Interpretation of parameters 16 and 52 "
   ]
  },
  {
   "cell_type": "markdown",
   "metadata": {},
   "source": [
    "\n",
    "$\\text{Parameter : 16 is the word “Free” and Parameter 52 is the character ‘!’ .}$\n",
    "\n",
    "$\\text{The } \\hat{\\theta}_{spam}$ $\\text{ for “Free” is : 0.0911}$\n",
    "\n",
    "$\\text{The } \\theta_{spam}$ $\\text{  for “Free” is : 0.5450}$\n",
    "\n",
    "$\\text{The } \\hat{\\theta}_{spam}$ $\\text{  for “!” is : 0.2690}$\n",
    "\n",
    "$\\text{The } \\theta_{spam}$ $\\text{  for “!“ is : 0.8333}$\n",
    "\n",
    "$\\text{Based on the Stem plot , the difference in }$ $\\theta_{spam} \\text{ for these two parameters is the highest\n",
    "among all the other parameters.}$\n",
    "$\\text{ The }$ $\\theta_{spam} \\text{ is about 6X higher for  the word \"Free\" and it is  3X higher for '!' }$\n",
    "\n",
    "$\\text{Therefore it can be concluded that an email with the  word \"Free\" or ‘!’ are  likely to be classified as Spam.}$\n",
    "\n",
    "$\\text{This is intuitive since the words \"Free\" is used in promotional emails  and the exclaimation mark (!) is used  to create excitement in the audience.}$"
   ]
  },
  {
   "cell_type": "markdown",
   "metadata": {},
   "source": [
    "### Logistic regression with Steepest Ascent"
   ]
  },
  {
   "cell_type": "code",
   "execution_count": 30,
   "metadata": {},
   "outputs": [],
   "source": [
    "################################################################################### \n",
    "def preprocess ( X_train , X_test , Y_train , Y_test):\n",
    "    Y_train_new = []\n",
    "    Y_test_new = []   \n",
    "    X_train_new = np.insert(X_train, 0, 1, axis=1)\n",
    "    X_test_new = np.insert(X_test, 0, 1, axis=1)\n",
    "    for y in Y_train:\n",
    "        if (y == 1):\n",
    "            Y_train_new.append(1)\n",
    "        else:\n",
    "            Y_train_new.append(-1)\n",
    "    for y in Y_test:\n",
    "        if (y == 1):\n",
    "            Y_test_new.append(1)\n",
    "        else:\n",
    "            Y_test_new.append(-1)\n",
    "    return np.matrix(Y_train_new) , np.matrix(Y_test_new), np.matrix(X_train_new), np.matrix(X_test_new)\n",
    "            \n",
    "            \n",
    "#def Sigmoid (X_train, N):\n",
    "\n",
    "Y_train_new , Y_test_new , X_train_new , X_test_new = preprocess( df_X_train , df_X_test , df_Y_train , df_Y_test)  \n",
    "################################################################################################## \n",
    "def sigmoid( par):\n",
    "  \n",
    "   sigmoid =  scipy.special.expit(par) \n",
    "   \n",
    "   if (sigmoid == 0 ):\n",
    "       sigmoid = .0000000000001\n",
    "   return sigmoid \n",
    "\n",
    "\n",
    "def Step(X_train_new , Y_train_new , W):\n",
    "    \n",
    "    temp = 0 \n",
    "    w = np.matrix(W)   \n",
    "    for i in   range(len(X_train_new)): \n",
    "       \n",
    "        #print i , (X_train_new[i]  * W.T).shape, Y_train_new[0,i]\n",
    "        par = X_train_new[i] * w.T * Y_train_new[0,i]\n",
    "        #print \"step\"\n",
    "        sig = (sigmoid( par[0,0])) \n",
    "        temp += (1- sig)*Y_train_new[0,i]*X_train_new[i]\n",
    "    return temp.T\n",
    " \n",
    "\n",
    "def get_Obj_fn(w, y_tr, x_tr):\n",
    "    obj_fn = 0\n",
    "    w = np.matrix(w)\n",
    "    for i in range(x_tr.shape[0]):\n",
    "        #print i \n",
    "        x =  np.matrix(x_tr[i])\n",
    "        y =  np.matrix(y_tr[0,i]) \n",
    "        k = (x * w.T) * y \n",
    "        #print  x.shape ,w.shape , w.T.shape , y.shape ,y_tr,   k , \"get_Obj_fn\"\n",
    "        sig = sigmoid(k)\n",
    "        obj_fn += np.log(sig)\n",
    "    return obj_fn"
   ]
  },
  {
   "cell_type": "code",
   "execution_count": 34,
   "metadata": {},
   "outputs": [
    {
     "data": {
      "image/png": "[encoded data removed]",
      "text/plain": [
       "<Figure size 432x288 with 1 Axes>"
      ]
     },
     "metadata": {
      "needs_background": "light"
     },
     "output_type": "display_data"
    }
   ],
   "source": [
    "##################################################################################################    \n",
    "W = []\n",
    "W.append(np.matrix(np.zeros((X_train_new.shape[1]))))   \n",
    "N = 10000\n",
    "for t in range(1,N+1):\n",
    "    eta  = 1/((10.0**5)*((N+1)**(.5)))\n",
    "    step = Step (X_train_new , Y_train_new , W[t-1])\n",
    "    update = eta * step\n",
    "    W.append(W[t-1] + update.T)\n",
    "\n",
    "\n",
    "L_log=[]\n",
    "for t in range(len(W)):\n",
    "    L_log.append(get_Obj_fn(W[t], Y_train_new, X_train_new)[0,0])\n",
    "\n",
    "plt.figure(3)\n",
    "  \n",
    "plt.plot(L_log)\n",
    "plt.title(\"Logistic Regression (Steepest Ascent) \")\n",
    "plt.xlabel(\"Itertion\")\n",
    "plt.ylabel(\"Objective Function Value\")\n",
    "plt.show()"
   ]
  },
  {
   "cell_type": "markdown",
   "metadata": {},
   "source": [
    "### Logistic regression with Newton's Method"
   ]
  },
  {
   "cell_type": "code",
   "execution_count": 36,
   "metadata": {},
   "outputs": [],
   "source": [
    "def get_delta2_L(x_tr,w):\n",
    "    l2_sum = np.zeros((x_tr.shape[1], x_tr.shape[1]))   \n",
    "    w = np.matrix(w).T\n",
    "    for i in range(x_tr.shape[0]):\n",
    "        x =  np.matrix(x_tr[i]).T\n",
    "        sig_inp = x.T * w\n",
    "        sig = scipy.special.expit(sig_inp)       \n",
    "        xxt = x*x.T\n",
    "        k =sig*(1- sig)\n",
    "        l2_sum = l2_sum + k[0,0]*xxt\n",
    "    return -1*l2_sum"
   ]
  },
  {
   "cell_type": "code",
   "execution_count": 35,
   "metadata": {},
   "outputs": [
    {
     "name": "stdout",
     "output_type": "stream",
     "text": [
      "newtons objective fn\n"
     ]
    },
    {
     "data": {
      "image/png": "[encoded data removed]",
      "text/plain": [
       "<Figure size 432x288 with 1 Axes>"
      ]
     },
     "metadata": {
      "needs_background": "light"
     },
     "output_type": "display_data"
    }
   ],
   "source": [
    "w_n = []\n",
    "w_n.append(np.zeros((X_train_new.shape[1])))\n",
    "iter = 100\n",
    "\n",
    "for t in range(1,iter+1):\n",
    "    #print t \n",
    "    eta  = 1/((t+1)**(.5))\n",
    "    hess = get_delta2_L(X_train_new,w_n[t-1])\n",
    "    hess_inv = np.linalg.inv(hess)\n",
    "    l1 = Step(X_train_new, Y_train_new, w_n[t-1])\n",
    "    update = eta * hess_inv*l1\n",
    "    w_n.append(w_n[t-1] - update.T)\n",
    "    \n",
    "print (\"newtons objective fn\")    \n",
    "L_newt=[]\n",
    "for t in range(len(w_n)):\n",
    "    #print t \n",
    "    L_newt.append(get_Obj_fn(w_n[t], Y_train_new, X_train_new)[0,0])\n",
    "\n",
    "plt.figure(4)\n",
    "plt.plot(L_newt)\n",
    "plt.title(\" Logistic Regression (Newton's Method)\")\n",
    "plt.xlabel(\"Itertion\")\n",
    "plt.ylabel(\"Objective Function Value\")\n",
    "plt.show()\n",
    "\n",
    "acc = [] \n",
    "for t in range(iter):\n",
    "    y_pred = [] \n",
    "    for i in  range(len(X_test_new)):\n",
    "        x =  np.matrix(X_test_new[i])\n",
    "        z = np.matrix(w_n[t])\n",
    "        y  = sigmoid(x*z.T)\n",
    "        if(y > .5):\n",
    "            y_pred.append(1)\n",
    "        else:\n",
    "            y_pred.append(-1)\n",
    "    c_mat = confusion_matrix(Y_test_new.T,y_pred )\n",
    "    acc.append(c_mat.trace()/(len(X_test_new)*1.0) )\n",
    "    "
   ]
  },
  {
   "cell_type": "code",
   "execution_count": null,
   "metadata": {},
   "outputs": [],
   "source": []
  }
 ],
 "metadata": {
  "kernelspec": {
   "display_name": "Python 3",
   "language": "python",
   "name": "python3"
  },
  "language_info": {
   "codemirror_mode": {
    "name": "ipython",
    "version": 3
   },
   "file_extension": ".py",
   "mimetype": "text/x-python",
   "name": "python",
   "nbconvert_exporter": "python",
   "pygments_lexer": "ipython3",
   "version": "3.6.8"
  }
 },
 "nbformat": 4,
 "nbformat_minor": 2
}
